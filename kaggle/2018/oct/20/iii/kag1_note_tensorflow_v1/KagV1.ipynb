{
 "cells": [
  {
   "cell_type": "markdown",
   "metadata": {
    "_cell_guid": "52e3f0c2-9782-4eec-a698-6561032bdae6",
    "_uuid": "04c12cbb448f1bf62d73b6799ea75db9685d286b"
   },
   "source": [
    "# Style and Libraries"
   ]
  },
  {
   "cell_type": "code",
   "execution_count": 1,
   "metadata": {
    "_cell_guid": "fae97053-edf4-4eb9-8163-ca558f88f4d1",
    "_uuid": "7b8c967a8e6c0569f55ab1266dac960b002a5cb5"
   },
   "outputs": [],
   "source": [
    "# Competition: https://www.kaggle.com/olgabelitskaya/traditional-decor-patterns\n",
    "# !pip3 install tqdm\n",
    "# !pip3 install keras\n",
    "# !pip3 install tensorflow\n",
    "# !pip3 install numpy --upgrade\n"
   ]
  },
  {
   "cell_type": "code",
   "execution_count": 2,
   "metadata": {},
   "outputs": [
    {
     "data": {
      "text/html": [
       "<style> \n",
       "h1, h2, h3 {text-shadow: 3px 3px 3px #aaa;} \n",
       "span {color: black; text-shadow: 3px 3px 3px #aaa;}\n",
       "div.output_prompt {color: crimson;} \n",
       "div.input_prompt {color: firebrick;} \n",
       "div.output_area pre, div.output_subarea {font-size: 15px; color: crimson}\n",
       "div.output_stderr pre {background-color: #f7e8e8;}\n",
       "</style>"
      ],
      "text/plain": [
       "<IPython.core.display.HTML object>"
      ]
     },
     "metadata": {},
     "output_type": "display_data"
    }
   ],
   "source": [
    "%%html\n",
    "<style> \n",
    "h1, h2, h3 {text-shadow: 3px 3px 3px #aaa;} \n",
    "span {color: black; text-shadow: 3px 3px 3px #aaa;}\n",
    "div.output_prompt {color: crimson;} \n",
    "div.input_prompt {color: firebrick;} \n",
    "div.output_area pre, div.output_subarea {font-size: 15px; color: crimson}\n",
    "div.output_stderr pre {background-color: #f7e8e8;}\n",
    "</style>"
   ]
  },
  {
   "cell_type": "code",
   "execution_count": 3,
   "metadata": {
    "_cell_guid": "6d6630c6-a753-454b-80c5-824157c397e0",
    "_uuid": "f1c560674dddb0f8f0faaf3ee3be4fbdbb73d6da"
   },
   "outputs": [
    {
     "name": "stderr",
     "output_type": "stream",
     "text": [
      "Using TensorFlow backend.\n"
     ]
    }
   ],
   "source": [
    "import warnings\n",
    "warnings.filterwarnings('ignore', category=FutureWarning)\n",
    "\n",
    "import numpy as np \n",
    "import pandas as pd\n",
    "\n",
    "from tqdm import tqdm\n",
    "import h5py\n",
    "import cv2\n",
    "\n",
    "import matplotlib.pylab as plt\n",
    "from matplotlib import cm\n",
    "import seaborn as sns\n",
    "%matplotlib inline\n",
    "\n",
    "from sklearn.model_selection import train_test_split\n",
    "from keras.utils import to_categorical\n",
    "from skimage import color, measure\n",
    "\n",
    "from IPython.core.magic import (register_line_magic, register_cell_magic)"
   ]
  },
  {
   "cell_type": "markdown",
   "metadata": {
    "_cell_guid": "9e3df0f8-dd9d-46ce-815a-8ca9199f2dc9",
    "_uuid": "01319e49efad352dc3e82b313ee94012d47ec7fc"
   },
   "source": [
    "# Load and Explore the Data"
   ]
  },
  {
   "cell_type": "code",
   "execution_count": 4,
   "metadata": {
    "_cell_guid": "b8438783-9c33-4bb2-a3d6-b4ccaca197c9",
    "_uuid": "62898c1bc14fc21c54239ee0f4612c49e18bc720"
   },
   "outputs": [
    {
     "ename": "FileNotFoundError",
     "evalue": "File b'../input/decor.csv' does not exist",
     "output_type": "error",
     "traceback": [
      "\u001b[1;31m---------------------------------------------------------------------------\u001b[0m",
      "\u001b[1;31mFileNotFoundError\u001b[0m                         Traceback (most recent call last)",
      "\u001b[1;32m<ipython-input-4-95757d54ec47>\u001b[0m in \u001b[0;36m<module>\u001b[1;34m()\u001b[0m\n\u001b[0;32m      1\u001b[0m \u001b[1;31m# Load and display the data\u001b[0m\u001b[1;33m\u001b[0m\u001b[1;33m\u001b[0m\u001b[0m\n\u001b[1;32m----> 2\u001b[1;33m \u001b[0mdata\u001b[0m \u001b[1;33m=\u001b[0m \u001b[0mpd\u001b[0m\u001b[1;33m.\u001b[0m\u001b[0mread_csv\u001b[0m\u001b[1;33m(\u001b[0m\u001b[1;34m\"../input/decor.csv\"\u001b[0m\u001b[1;33m)\u001b[0m\u001b[1;33m\u001b[0m\u001b[0m\n\u001b[0m\u001b[0;32m      3\u001b[0m \u001b[0mdata\u001b[0m\u001b[1;33m.\u001b[0m\u001b[0mhead\u001b[0m\u001b[1;33m(\u001b[0m\u001b[1;33m)\u001b[0m\u001b[1;33m\u001b[0m\u001b[0m\n",
      "\u001b[1;32m~\\AppData\\Roaming\\Python\\Python36\\site-packages\\pandas\\io\\parsers.py\u001b[0m in \u001b[0;36mparser_f\u001b[1;34m(filepath_or_buffer, sep, delimiter, header, names, index_col, usecols, squeeze, prefix, mangle_dupe_cols, dtype, engine, converters, true_values, false_values, skipinitialspace, skiprows, nrows, na_values, keep_default_na, na_filter, verbose, skip_blank_lines, parse_dates, infer_datetime_format, keep_date_col, date_parser, dayfirst, iterator, chunksize, compression, thousands, decimal, lineterminator, quotechar, quoting, escapechar, comment, encoding, dialect, tupleize_cols, error_bad_lines, warn_bad_lines, skipfooter, skip_footer, doublequote, delim_whitespace, as_recarray, compact_ints, use_unsigned, low_memory, buffer_lines, memory_map, float_precision)\u001b[0m\n\u001b[0;32m    703\u001b[0m                     skip_blank_lines=skip_blank_lines)\n\u001b[0;32m    704\u001b[0m \u001b[1;33m\u001b[0m\u001b[0m\n\u001b[1;32m--> 705\u001b[1;33m         \u001b[1;32mreturn\u001b[0m \u001b[0m_read\u001b[0m\u001b[1;33m(\u001b[0m\u001b[0mfilepath_or_buffer\u001b[0m\u001b[1;33m,\u001b[0m \u001b[0mkwds\u001b[0m\u001b[1;33m)\u001b[0m\u001b[1;33m\u001b[0m\u001b[0m\n\u001b[0m\u001b[0;32m    706\u001b[0m \u001b[1;33m\u001b[0m\u001b[0m\n\u001b[0;32m    707\u001b[0m     \u001b[0mparser_f\u001b[0m\u001b[1;33m.\u001b[0m\u001b[0m__name__\u001b[0m \u001b[1;33m=\u001b[0m \u001b[0mname\u001b[0m\u001b[1;33m\u001b[0m\u001b[0m\n",
      "\u001b[1;32m~\\AppData\\Roaming\\Python\\Python36\\site-packages\\pandas\\io\\parsers.py\u001b[0m in \u001b[0;36m_read\u001b[1;34m(filepath_or_buffer, kwds)\u001b[0m\n\u001b[0;32m    443\u001b[0m \u001b[1;33m\u001b[0m\u001b[0m\n\u001b[0;32m    444\u001b[0m     \u001b[1;31m# Create the parser.\u001b[0m\u001b[1;33m\u001b[0m\u001b[1;33m\u001b[0m\u001b[0m\n\u001b[1;32m--> 445\u001b[1;33m     \u001b[0mparser\u001b[0m \u001b[1;33m=\u001b[0m \u001b[0mTextFileReader\u001b[0m\u001b[1;33m(\u001b[0m\u001b[0mfilepath_or_buffer\u001b[0m\u001b[1;33m,\u001b[0m \u001b[1;33m**\u001b[0m\u001b[0mkwds\u001b[0m\u001b[1;33m)\u001b[0m\u001b[1;33m\u001b[0m\u001b[0m\n\u001b[0m\u001b[0;32m    446\u001b[0m \u001b[1;33m\u001b[0m\u001b[0m\n\u001b[0;32m    447\u001b[0m     \u001b[1;32mif\u001b[0m \u001b[0mchunksize\u001b[0m \u001b[1;32mor\u001b[0m \u001b[0miterator\u001b[0m\u001b[1;33m:\u001b[0m\u001b[1;33m\u001b[0m\u001b[0m\n",
      "\u001b[1;32m~\\AppData\\Roaming\\Python\\Python36\\site-packages\\pandas\\io\\parsers.py\u001b[0m in \u001b[0;36m__init__\u001b[1;34m(self, f, engine, **kwds)\u001b[0m\n\u001b[0;32m    812\u001b[0m             \u001b[0mself\u001b[0m\u001b[1;33m.\u001b[0m\u001b[0moptions\u001b[0m\u001b[1;33m[\u001b[0m\u001b[1;34m'has_index_names'\u001b[0m\u001b[1;33m]\u001b[0m \u001b[1;33m=\u001b[0m \u001b[0mkwds\u001b[0m\u001b[1;33m[\u001b[0m\u001b[1;34m'has_index_names'\u001b[0m\u001b[1;33m]\u001b[0m\u001b[1;33m\u001b[0m\u001b[0m\n\u001b[0;32m    813\u001b[0m \u001b[1;33m\u001b[0m\u001b[0m\n\u001b[1;32m--> 814\u001b[1;33m         \u001b[0mself\u001b[0m\u001b[1;33m.\u001b[0m\u001b[0m_make_engine\u001b[0m\u001b[1;33m(\u001b[0m\u001b[0mself\u001b[0m\u001b[1;33m.\u001b[0m\u001b[0mengine\u001b[0m\u001b[1;33m)\u001b[0m\u001b[1;33m\u001b[0m\u001b[0m\n\u001b[0m\u001b[0;32m    815\u001b[0m \u001b[1;33m\u001b[0m\u001b[0m\n\u001b[0;32m    816\u001b[0m     \u001b[1;32mdef\u001b[0m \u001b[0mclose\u001b[0m\u001b[1;33m(\u001b[0m\u001b[0mself\u001b[0m\u001b[1;33m)\u001b[0m\u001b[1;33m:\u001b[0m\u001b[1;33m\u001b[0m\u001b[0m\n",
      "\u001b[1;32m~\\AppData\\Roaming\\Python\\Python36\\site-packages\\pandas\\io\\parsers.py\u001b[0m in \u001b[0;36m_make_engine\u001b[1;34m(self, engine)\u001b[0m\n\u001b[0;32m   1043\u001b[0m     \u001b[1;32mdef\u001b[0m \u001b[0m_make_engine\u001b[0m\u001b[1;33m(\u001b[0m\u001b[0mself\u001b[0m\u001b[1;33m,\u001b[0m \u001b[0mengine\u001b[0m\u001b[1;33m=\u001b[0m\u001b[1;34m'c'\u001b[0m\u001b[1;33m)\u001b[0m\u001b[1;33m:\u001b[0m\u001b[1;33m\u001b[0m\u001b[0m\n\u001b[0;32m   1044\u001b[0m         \u001b[1;32mif\u001b[0m \u001b[0mengine\u001b[0m \u001b[1;33m==\u001b[0m \u001b[1;34m'c'\u001b[0m\u001b[1;33m:\u001b[0m\u001b[1;33m\u001b[0m\u001b[0m\n\u001b[1;32m-> 1045\u001b[1;33m             \u001b[0mself\u001b[0m\u001b[1;33m.\u001b[0m\u001b[0m_engine\u001b[0m \u001b[1;33m=\u001b[0m \u001b[0mCParserWrapper\u001b[0m\u001b[1;33m(\u001b[0m\u001b[0mself\u001b[0m\u001b[1;33m.\u001b[0m\u001b[0mf\u001b[0m\u001b[1;33m,\u001b[0m \u001b[1;33m**\u001b[0m\u001b[0mself\u001b[0m\u001b[1;33m.\u001b[0m\u001b[0moptions\u001b[0m\u001b[1;33m)\u001b[0m\u001b[1;33m\u001b[0m\u001b[0m\n\u001b[0m\u001b[0;32m   1046\u001b[0m         \u001b[1;32melse\u001b[0m\u001b[1;33m:\u001b[0m\u001b[1;33m\u001b[0m\u001b[0m\n\u001b[0;32m   1047\u001b[0m             \u001b[1;32mif\u001b[0m \u001b[0mengine\u001b[0m \u001b[1;33m==\u001b[0m \u001b[1;34m'python'\u001b[0m\u001b[1;33m:\u001b[0m\u001b[1;33m\u001b[0m\u001b[0m\n",
      "\u001b[1;32m~\\AppData\\Roaming\\Python\\Python36\\site-packages\\pandas\\io\\parsers.py\u001b[0m in \u001b[0;36m__init__\u001b[1;34m(self, src, **kwds)\u001b[0m\n\u001b[0;32m   1682\u001b[0m         \u001b[0mkwds\u001b[0m\u001b[1;33m[\u001b[0m\u001b[1;34m'allow_leading_cols'\u001b[0m\u001b[1;33m]\u001b[0m \u001b[1;33m=\u001b[0m \u001b[0mself\u001b[0m\u001b[1;33m.\u001b[0m\u001b[0mindex_col\u001b[0m \u001b[1;32mis\u001b[0m \u001b[1;32mnot\u001b[0m \u001b[1;32mFalse\u001b[0m\u001b[1;33m\u001b[0m\u001b[0m\n\u001b[0;32m   1683\u001b[0m \u001b[1;33m\u001b[0m\u001b[0m\n\u001b[1;32m-> 1684\u001b[1;33m         \u001b[0mself\u001b[0m\u001b[1;33m.\u001b[0m\u001b[0m_reader\u001b[0m \u001b[1;33m=\u001b[0m \u001b[0mparsers\u001b[0m\u001b[1;33m.\u001b[0m\u001b[0mTextReader\u001b[0m\u001b[1;33m(\u001b[0m\u001b[0msrc\u001b[0m\u001b[1;33m,\u001b[0m \u001b[1;33m**\u001b[0m\u001b[0mkwds\u001b[0m\u001b[1;33m)\u001b[0m\u001b[1;33m\u001b[0m\u001b[0m\n\u001b[0m\u001b[0;32m   1685\u001b[0m \u001b[1;33m\u001b[0m\u001b[0m\n\u001b[0;32m   1686\u001b[0m         \u001b[1;31m# XXX\u001b[0m\u001b[1;33m\u001b[0m\u001b[1;33m\u001b[0m\u001b[0m\n",
      "\u001b[1;32mpandas\\_libs\\parsers.pyx\u001b[0m in \u001b[0;36mpandas._libs.parsers.TextReader.__cinit__\u001b[1;34m()\u001b[0m\n",
      "\u001b[1;32mpandas\\_libs\\parsers.pyx\u001b[0m in \u001b[0;36mpandas._libs.parsers.TextReader._setup_parser_source\u001b[1;34m()\u001b[0m\n",
      "\u001b[1;31mFileNotFoundError\u001b[0m: File b'../input/decor.csv' does not exist"
     ]
    }
   ],
   "source": [
    "# Load and display the data\n",
    "data = pd.read_csv(\"../input/decor.csv\")\n",
    "data.head()"
   ]
  },
  {
   "cell_type": "code",
   "execution_count": null,
   "metadata": {
    "_cell_guid": "b6ef1ad3-4c77-4fc3-ae3e-a4ddd659cee4",
    "_uuid": "391def59e1ec6bad4d353b68a3bb4429e151a40e"
   },
   "outputs": [],
   "source": [
    "# Plot decor distribution\n",
    "plt.style.use('seaborn-whitegrid')\n",
    "plt.figure(figsize=(15,5))\n",
    "sns.countplot(x=\"decor\", data=data,\n",
    "              facecolor=(0, 0, 0, 0), linewidth=7,\n",
    "              edgecolor=sns.color_palette(\"Set1\",7))\n",
    "plt.title('Decor Distribution', fontsize=20);"
   ]
  },
  {
   "cell_type": "code",
   "execution_count": null,
   "metadata": {
    "_cell_guid": "9d62621a-de56-41be-b9bb-a02061b03800",
    "_uuid": "448eed147ecf8dfcca06f232814c3e643161d67b"
   },
   "outputs": [],
   "source": [
    "# Plot decor distribution grouped by country\n",
    "plt.figure(figsize=(15,5))\n",
    "sns.countplot(x=\"decor\", hue=\"country\", data=data, palette='Set1')\n",
    "plt.legend(loc=1)\n",
    "plt.title('Decor Distribution Grouped by Country', \n",
    "          fontsize=20);"
   ]
  },
  {
   "cell_type": "code",
   "execution_count": null,
   "metadata": {
    "_cell_guid": "59e5628a-7add-40fd-86f9-d8e16122216b",
    "_uuid": "369c8092f6a58fc1e71708f80e1770bd539c4612"
   },
   "outputs": [],
   "source": [
    "# Print unique values of decor names\n",
    "set(data['decor'])"
   ]
  },
  {
   "cell_type": "code",
   "execution_count": null,
   "metadata": {
    "_cell_guid": "f99a23c9-a74b-43e7-a290-88100f89fbb6",
    "_uuid": "1466827202763f70cf4556e316b1735cf41f2fae"
   },
   "outputs": [],
   "source": [
    "# Print unique values of country names\n",
    "set(data['country'])"
   ]
  },
  {
   "cell_type": "code",
   "execution_count": null,
   "metadata": {
    "_cell_guid": "02b3b9e5-67ee-4af6-8bfc-5d70b2ba6046",
    "_uuid": "69153fed3a9ac9a8b45522b7a29096f3b2ffb18a"
   },
   "outputs": [],
   "source": [
    "# Read the h5 file\n",
    "f = h5py.File('../input/DecorColorImages.h5', 'r')\n",
    "\n",
    "# List all groups\n",
    "keys = list(f.keys())\n",
    "keys"
   ]
  },
  {
   "cell_type": "code",
   "execution_count": null,
   "metadata": {
    "_cell_guid": "afbef009-bd33-4191-835e-f8fa3f35c557",
    "_uuid": "f8596db47f9068a2c386f5598ce04183282fd14d"
   },
   "outputs": [],
   "source": [
    "# Create tensors and targets\n",
    "countries = np.array(f[keys[0]])\n",
    "decors = np.array(f[keys[1]])\n",
    "images = np.array(f[keys[2]])\n",
    "types = np.array(f[keys[3]])\n",
    "\n",
    "print ('Country shape:', countries.shape)\n",
    "print ('Decor shape', decors.shape)\n",
    "print ('Image shape:', images.shape)\n",
    "print ('Type shape', types.shape)"
   ]
  },
  {
   "cell_type": "markdown",
   "metadata": {
    "_cell_guid": "34ec8201-15c3-4693-83d0-50129a3bb85b",
    "_uuid": "896ebdeccd76fba9fb334c870e8540d172bddc9c"
   },
   "source": [
    "# Implement Preprocess Functions"
   ]
  },
  {
   "cell_type": "code",
   "execution_count": null,
   "metadata": {
    "_cell_guid": "1623d6ca-333c-4ec0-af9a-ca0a88ade1bd",
    "_uuid": "c6d01c7fbe2b66a5076631dae9faec08877dd2c1"
   },
   "outputs": [],
   "source": [
    "# Normalize the tensors\n",
    "images = images.astype('float32')/255"
   ]
  },
  {
   "cell_type": "code",
   "execution_count": null,
   "metadata": {
    "_cell_guid": "60e505a0-2780-4eb9-84cb-c3e9d776bbed",
    "_uuid": "34b32242f8bf943511fc5a16166cf9de18d79233"
   },
   "outputs": [],
   "source": [
    "# Read and display a tensor using Matplotlib\n",
    "pattern_number = 106\n",
    "print('Country: ', countries[pattern_number], '-', data['country'][pattern_number])\n",
    "print('Decor: ', decors[pattern_number], '-', data['decor'][pattern_number])\n",
    "print('Type: ', types[pattern_number], '-', data['type'][pattern_number])\n",
    "plt.figure(figsize=(5,5))\n",
    "plt.imshow(images[pattern_number]);"
   ]
  },
  {
   "cell_type": "code",
   "execution_count": null,
   "metadata": {
    "_cell_guid": "74e204cf-3a3d-4650-ba9a-dda8de4a7b6f",
    "_uuid": "55fbed816feacbc1eb3a449ac95187899d430512"
   },
   "outputs": [],
   "source": [
    "# Grayscaled tensors\n",
    "gray_images = np.dot(images[...,:3], [0.299, 0.587, 0.114])\n",
    "print (\"Shape of grayscaled images:\", gray_images.shape)"
   ]
  },
  {
   "cell_type": "code",
   "execution_count": null,
   "metadata": {
    "_cell_guid": "28b35477-84d1-49c4-8ce8-933082b2b891",
    "_uuid": "988657397d3deaec733ef4009989712687bf0a57"
   },
   "outputs": [],
   "source": [
    "# Read and display a grayscaled tensor using Matplotlib\n",
    "print('Country: ', countries[pattern_number], '-', data['country'][pattern_number])\n",
    "print('Decor: ', decors[pattern_number], '-', data['decor'][pattern_number])\n",
    "print('Type: ', types[pattern_number], '-', data['type'][pattern_number])\n",
    "plt.figure(figsize=(5,5))\n",
    "plt.imshow(gray_images[pattern_number], cmap=cm.bone);"
   ]
  },
  {
   "cell_type": "code",
   "execution_count": null,
   "metadata": {
    "_cell_guid": "a7b50df0-cbb6-4ae3-9b25-4c07cef201c8",
    "_uuid": "20e05eba0496c5104313cc9d30341dce0203c4c4"
   },
   "outputs": [],
   "source": [
    "# Print the target unique values\n",
    "print('Countries: ', set(countries))\n",
    "print('Decors: ', set(decors))\n",
    "print('Types: ', set(types))"
   ]
  },
  {
   "cell_type": "code",
   "execution_count": null,
   "metadata": {
    "_cell_guid": "0021fb6d-9ffe-40a3-aac5-134c66254fb3",
    "_uuid": "4676659c8d1d4f2400ac147c595ac6bcf0489444"
   },
   "outputs": [],
   "source": [
    "# One-hot encode the targets, started from the zero label\n",
    "cat_countries = to_categorical(np.array(countries-1), 4)\n",
    "cat_decors = to_categorical(np.array(decors-1), 7)\n",
    "cat_types = to_categorical(np.array(types-1), 2)\n",
    "cat_countries.shape, cat_decors.shape, cat_types.shape"
   ]
  },
  {
   "cell_type": "code",
   "execution_count": null,
   "metadata": {
    "_cell_guid": "f560fff1-b12f-4678-89dc-4c9818587cea",
    "_uuid": "7bf4cbad810f4693ba216b45a550627661192c97"
   },
   "outputs": [],
   "source": [
    "# Create multi-label targets\n",
    "targets = np.concatenate((cat_countries, cat_decors), axis=1)\n",
    "targets = np.concatenate((targets, cat_types), axis=1)\n",
    "targets.shape"
   ]
  },
  {
   "cell_type": "code",
   "execution_count": null,
   "metadata": {
    "_cell_guid": "6fdc1695-248c-493e-b236-b83504ae0b5c",
    "_uuid": "b357071014337ad0f32c1103597b0ce12e896f64"
   },
   "outputs": [],
   "source": [
    "# Split the data / Color images / Country targets\n",
    "x_train, x_test, y_train, y_test = train_test_split(images, cat_countries, \n",
    "                                                    test_size = 0.2, \n",
    "                                                    random_state = 1)\n",
    "n = int(len(x_test)/2)\n",
    "x_valid, y_valid = x_test[:n], y_test[:n]\n",
    "x_test, y_test = x_test[n:], y_test[n:]"
   ]
  },
  {
   "cell_type": "code",
   "execution_count": null,
   "metadata": {
    "_cell_guid": "429b0fff-25b0-4458-a63b-22930e7fef31",
    "_uuid": "9655904f15b418a1ce6a35dde7ec4f5695d5a0b1"
   },
   "outputs": [],
   "source": [
    "# Split the data / Color images / Decor targets\n",
    "x_train3, x_test3, y_train3, y_test3 = train_test_split(images, cat_decors, \n",
    "                                                        test_size = 0.2, \n",
    "                                                        random_state = 1)\n",
    "n = int(len(x_test3)/2)\n",
    "x_valid3, y_valid3 = x_test3[:n], y_test3[:n]\n",
    "x_test3, y_test3 = x_test3[n:], y_test3[n:]"
   ]
  },
  {
   "cell_type": "code",
   "execution_count": null,
   "metadata": {
    "_uuid": "898c70013cb38c4b7e893f741d9d2414d999dd0a"
   },
   "outputs": [],
   "source": [
    "# Split the data / Color images / Multi-Label targets\n",
    "x_train5, x_test5, y_train5, y_test5 = train_test_split(images, targets, \n",
    "                                                        test_size = 0.2, \n",
    "                                                        random_state = 1)\n",
    "n = int(len(x_test5)/2)\n",
    "x_valid5, y_valid5 = x_test5[:n], y_test5[:n]\n",
    "x_test5, y_test5 = x_test5[n:], y_test5[n:]"
   ]
  },
  {
   "cell_type": "code",
   "execution_count": null,
   "metadata": {
    "_uuid": "f9d831e7beaf9d54af91f7f52ee0e777624552db"
   },
   "outputs": [],
   "source": [
    "# Split the data / Grayscaled images / Country targets\n",
    "x_train2, x_test2, y_train2, y_test2 = train_test_split(gray_images, cat_countries, \n",
    "                                                        test_size = 0.2, \n",
    "                                                        random_state = 1)\n",
    "n = int(len(x_test2)/2)\n",
    "x_valid2, y_valid2 = x_test2[:n], y_test2[:n]\n",
    "x_test2, y_test2 = x_test2[n:], y_test2[n:]"
   ]
  },
  {
   "cell_type": "code",
   "execution_count": null,
   "metadata": {
    "_uuid": "0a6052daf1c2d26d09769c76854eb1fbd9766915"
   },
   "outputs": [],
   "source": [
    "# Reshape the grayscaled data\n",
    "x_train2, x_test2, x_valid2 = \\\n",
    "x_train2.reshape(-1, 150, 150, 1), \\\n",
    "x_test2.reshape(-1, 150, 150, 1), \\\n",
    "x_valid2.reshape(-1, 150, 150, 1)"
   ]
  },
  {
   "cell_type": "code",
   "execution_count": null,
   "metadata": {
    "_uuid": "bf3d2a8c039d3f83624e8ab858fcd4281f4aa4fb"
   },
   "outputs": [],
   "source": [
    "# Split the data / Grayscaled images / Decor targets\n",
    "x_train4, x_test4, y_train4, y_test4 = train_test_split(gray_images, cat_decors, \n",
    "                                                        test_size = 0.2, \n",
    "                                                        random_state = 1)\n",
    "n = int(len(x_test4)/2)\n",
    "x_valid4, y_valid4 = x_test4[:n], y_test4[:n]\n",
    "x_test4, y_test4 = x_test4[n:], y_test4[n:]"
   ]
  },
  {
   "cell_type": "code",
   "execution_count": null,
   "metadata": {
    "_uuid": "591a1cde6c5eb4bf42faa8d85f343be3b0d7a3ef"
   },
   "outputs": [],
   "source": [
    "# Reshape the grayscaled data\n",
    "x_train4, x_test4, x_valid4 = \\\n",
    "x_train4.reshape(-1, 150, 150, 1), \\\n",
    "x_test4.reshape(-1, 150, 150, 1), \\\n",
    "x_valid4.reshape(-1, 150, 150, 1)"
   ]
  },
  {
   "cell_type": "code",
   "execution_count": null,
   "metadata": {
    "_uuid": "3d031070709d0f5d390991351028954ee4f6a061"
   },
   "outputs": [],
   "source": [
    "# Split the data / Grayscaled images / Multi-Label targets\n",
    "x_train6, x_test6, y_train6, y_test6 = train_test_split(gray_images, targets, \n",
    "                                                        test_size = 0.2, \n",
    "                                                        random_state = 1)\n",
    "n = int(len(x_test6)/2)\n",
    "x_valid6, y_valid6 = x_test6[:n], y_test6[:n]\n",
    "x_test6, y_test6 = x_test6[n:], y_test6[n:]"
   ]
  },
  {
   "cell_type": "code",
   "execution_count": null,
   "metadata": {
    "_uuid": "a05662e2ce1567e1aa6a066f50451839a32c831f"
   },
   "outputs": [],
   "source": [
    "# Reshape the grayscaled data\n",
    "x_train6, x_test6, x_valid6 = \\\n",
    "x_train6.reshape(-1, 150, 150, 1), \\\n",
    "x_test6.reshape(-1, 150, 150, 1), \\\n",
    "x_valid6.reshape(-1, 150, 150, 1)"
   ]
  },
  {
   "cell_type": "code",
   "execution_count": null,
   "metadata": {
    "_uuid": "2d7a3ab13bd473eede819e1f9bd4c2abf3901fc5"
   },
   "outputs": [],
   "source": [
    "# Create a list of targets\n",
    "y_train6_list = [y_train6[:, :4], y_train6[:, 4:11], y_train6[:, 11:]]\n",
    "y_test6_list = [y_test6[:, :4], y_test6[:, 4:11], y_test6[:, 11:]]\n",
    "y_valid6_list = [y_valid6[:, :4], y_valid6[:, 4:11], y_valid6[:, 11:]]"
   ]
  },
  {
   "cell_type": "markdown",
   "metadata": {
    "_uuid": "4070d2231980451c5e7be5b131779a106865f863"
   },
   "source": [
    "# Vectorize Images\n",
    "#### Just for fun"
   ]
  },
  {
   "cell_type": "code",
   "execution_count": null,
   "metadata": {
    "_uuid": "d67b01418680837687a70cf4b732a0e570c4c0d2"
   },
   "outputs": [],
   "source": [
    "# Create a magic function\n",
    "@register_line_magic\n",
    "def vector(number):\n",
    "    example = images[int(number)]\n",
    "    gray_example = color.colorconv.rgb2grey(example)\n",
    "    contours = measure.find_contours(gray_example, 0.85)\n",
    "    plt.figure(figsize=(8,8))\n",
    "    plt.gca().invert_yaxis()\n",
    "    for n, contour in enumerate(contours):\n",
    "        plt.plot(contour[:, 1], contour[:, 0], lw=1)"
   ]
  },
  {
   "cell_type": "code",
   "execution_count": null,
   "metadata": {
    "_uuid": "a71685f672dc085823bcaa03ba47827ce585a548"
   },
   "outputs": [],
   "source": [
    "# Display a vector image \n",
    "%vector 106"
   ]
  },
  {
   "cell_type": "code",
   "execution_count": null,
   "metadata": {
    "_uuid": "862abc7b0a9a1e0ff85f67530dd02c9137cf7a91"
   },
   "outputs": [],
   "source": [
    "# Display a vector image \n",
    "%vector 200"
   ]
  },
  {
   "cell_type": "code",
   "execution_count": null,
   "metadata": {},
   "outputs": [],
   "source": [
    "# Updated by https://www.kaggle.com/olgabelitskaya/preprocessing-of-pattern-images"
   ]
  }
 ],
 "metadata": {
  "kernelspec": {
   "display_name": "Python 3",
   "language": "python",
   "name": "python3"
  },
  "language_info": {
   "codemirror_mode": {
    "name": "ipython",
    "version": 3
   },
   "file_extension": ".py",
   "mimetype": "text/x-python",
   "name": "python",
   "nbconvert_exporter": "python",
   "pygments_lexer": "ipython3",
   "version": "3.6.5"
  }
 },
 "nbformat": 4,
 "nbformat_minor": 1
}
